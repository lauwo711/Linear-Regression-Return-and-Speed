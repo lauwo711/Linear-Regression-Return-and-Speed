{
 "cells": [
  {
   "cell_type": "code",
   "execution_count": 1,
   "metadata": {},
   "outputs": [],
   "source": [
    "import yfinance as yf  \n",
    "import numpy as np\n",
    "import pandas as pd"
   ]
  },
  {
   "cell_type": "code",
   "execution_count": 2,
   "metadata": {},
   "outputs": [],
   "source": [
    "# Get a list of S&P 500 Ticker\n",
    "S_P_500 = pd.read_html('https://en.wikipedia.org/wiki/List_of_S%26P_500_companies')[0]\n",
    "ticker_set = S_P_500['Symbol'].tolist()"
   ]
  },
  {
   "cell_type": "markdown",
   "metadata": {},
   "source": [
    "**Scrap data from yfinance** <br>\n",
    "Function 'parameter' in the last cell of this notebook. <br>\n",
    "Please refer to here for the concepts <br>\n",
    "https://github.com/lauwo711/New-Factor-inspired-by-Momentum/blob/master/New%20Factor%20inspired%20by%20Momentum.ipynb"
   ]
  },
  {
   "cell_type": "code",
   "execution_count": null,
   "metadata": {},
   "outputs": [],
   "source": [
    "data_set = []\n",
    "for i in ticker_set:\n",
    "    try:\n",
    "        print(i)\n",
    "        data_set.append(parameter(i,'2010-01-01','2019-12-31'))\n",
    "    except (ValueError,IndexError,ZeroDivisionError):\n",
    "        pass"
   ]
  },
  {
   "cell_type": "code",
   "execution_count": 35,
   "metadata": {},
   "outputs": [
    {
     "data": {
      "text/html": [
       "<div>\n",
       "<style scoped>\n",
       "    .dataframe tbody tr th:only-of-type {\n",
       "        vertical-align: middle;\n",
       "    }\n",
       "\n",
       "    .dataframe tbody tr th {\n",
       "        vertical-align: top;\n",
       "    }\n",
       "\n",
       "    .dataframe thead th {\n",
       "        text-align: right;\n",
       "    }\n",
       "</style>\n",
       "<table border=\"1\" class=\"dataframe\">\n",
       "  <thead>\n",
       "    <tr style=\"text-align: right;\">\n",
       "      <th></th>\n",
       "      <th>Ticker</th>\n",
       "      <th>Return</th>\n",
       "      <th>num_up</th>\n",
       "      <th>num_down</th>\n",
       "      <th>speed_up</th>\n",
       "      <th>speed_down</th>\n",
       "    </tr>\n",
       "  </thead>\n",
       "  <tbody>\n",
       "    <tr>\n",
       "      <th>0</th>\n",
       "      <td>MMM</td>\n",
       "      <td>1.75491570924234</td>\n",
       "      <td>62</td>\n",
       "      <td>39</td>\n",
       "      <td>0.24102981351981342</td>\n",
       "      <td>-0.4434347002724796</td>\n",
       "    </tr>\n",
       "    <tr>\n",
       "      <th>1</th>\n",
       "      <td>ABT</td>\n",
       "      <td>3.7826775503853565</td>\n",
       "      <td>68</td>\n",
       "      <td>38</td>\n",
       "      <td>0.08953383472057072</td>\n",
       "      <td>-0.11256637997432599</td>\n",
       "    </tr>\n",
       "    <tr>\n",
       "      <th>2</th>\n",
       "      <td>ABBV</td>\n",
       "      <td>2.3026503638205766</td>\n",
       "      <td>48</td>\n",
       "      <td>39</td>\n",
       "      <td>0.18662609496124025</td>\n",
       "      <td>-0.2296618404907975</td>\n",
       "    </tr>\n",
       "    <tr>\n",
       "      <th>3</th>\n",
       "      <td>ABMD</td>\n",
       "      <td>18.162657502863688</td>\n",
       "      <td>74</td>\n",
       "      <td>63</td>\n",
       "      <td>0.6041620498614958</td>\n",
       "      <td>-0.6489597249508842</td>\n",
       "    </tr>\n",
       "    <tr>\n",
       "      <th>4</th>\n",
       "      <td>ACN</td>\n",
       "      <td>5.279990499726416</td>\n",
       "      <td>69</td>\n",
       "      <td>43</td>\n",
       "      <td>0.2076265734265734</td>\n",
       "      <td>-0.27755870653685666</td>\n",
       "    </tr>\n",
       "  </tbody>\n",
       "</table>\n",
       "</div>"
      ],
      "text/plain": [
       "  Ticker              Return num_up num_down             speed_up  \\\n",
       "0    MMM    1.75491570924234     62       39  0.24102981351981342   \n",
       "1    ABT  3.7826775503853565     68       38  0.08953383472057072   \n",
       "2   ABBV  2.3026503638205766     48       39  0.18662609496124025   \n",
       "3   ABMD  18.162657502863688     74       63   0.6041620498614958   \n",
       "4    ACN   5.279990499726416     69       43   0.2076265734265734   \n",
       "\n",
       "             speed_down  \n",
       "0   -0.4434347002724796  \n",
       "1  -0.11256637997432599  \n",
       "2   -0.2296618404907975  \n",
       "3   -0.6489597249508842  \n",
       "4  -0.27755870653685666  "
      ]
     },
     "execution_count": 35,
     "metadata": {},
     "output_type": "execute_result"
    }
   ],
   "source": [
    "# display data\n",
    "pd.DataFrame(np.array(data_set),columns=['Ticker','Return','num_up', 'num_down', 'speed_up', 'speed_down']).head()"
   ]
  },
  {
   "cell_type": "code",
   "execution_count": 15,
   "metadata": {},
   "outputs": [],
   "source": [
    "# get data n years from today\n",
    "def get_price(ticker,start_date,end_date):\n",
    "    px = yf.download(ticker,start=start_date,end=end_date)['Adj Close'].to_numpy()\n",
    "    return px[~np.isnan(px)]\n",
    "\n",
    "# get n days moving average price\n",
    "def n_days_moving_avg(px,n):\n",
    "    ma = np.zeros((len(px)-n+1)) + px[n-1:] #initialize array ma\n",
    "    for i in range(n-1):\n",
    "        ma += px[n-2-i:-1-i]\n",
    "    return ma/n\n",
    "\n",
    "def parameter(ticker,start_date,end_date):\n",
    "    px = np.round(get_price(ticker,start_date,end_date),4)\n",
    "    ma_px = n_days_moving_avg(px,10)\n",
    "\n",
    "    sec_diff = np.diff(np.sign(np.diff(ma_px)))\n",
    "\n",
    "    # find out turning points\n",
    "    turn_pt = []\n",
    "    for i in range(len(sec_diff)):\n",
    "        if sec_diff[i]<0:\n",
    "            turn_pt.append([i, ma_px[1:-1][i]])\n",
    "        elif sec_diff[i]>0:\n",
    "            turn_pt.append([i, ma_px[1:-1][i]])\n",
    "\n",
    "    # filter significant points using threshold=2%\n",
    "    turn_pt = [turn_pt[i] for i in range(len(turn_pt)-1) if abs(turn_pt[i+1][1]/turn_pt[i][1] - 1) > 0.02]\n",
    "\n",
    "    #speed\n",
    "    turn_pt = np.array(turn_pt).transpose()\n",
    "    dist = np.diff(turn_pt[1])\n",
    "    time = np.diff(turn_pt[0])\n",
    "    speed = dist/time\n",
    "\n",
    "    r = px[-1]/px[0] - 1\n",
    "\n",
    "    num_up = len([i for i in speed if i > 0])\n",
    "\n",
    "    num_down = len([i for i in speed if i < 0])\n",
    "\n",
    "    speed_up = sum([i for i in dist if i > 0]) / sum([time[i] for i in range(len(dist)) if dist[i] > 0])\n",
    "\n",
    "    speed_down = sum([i for i in dist if i < 0]) / sum([time[i] for i in range(len(dist)) if dist[i] < 0])\n",
    "\n",
    "    return [ticker, r, num_up, num_down, speed_up, speed_down]"
   ]
  }
 ],
 "metadata": {
  "kernelspec": {
   "display_name": "Python 3",
   "language": "python",
   "name": "python3"
  },
  "language_info": {
   "codemirror_mode": {
    "name": "ipython",
    "version": 3
   },
   "file_extension": ".py",
   "mimetype": "text/x-python",
   "name": "python",
   "nbconvert_exporter": "python",
   "pygments_lexer": "ipython3",
   "version": "3.6.8"
  }
 },
 "nbformat": 4,
 "nbformat_minor": 2
}
